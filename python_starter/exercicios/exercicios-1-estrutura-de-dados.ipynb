{
 "cells": [
  {
   "cell_type": "markdown",
   "metadata": {},
   "source": [
    "<img src=\"https://asimov.academy/wp-content/uploads/2021/01/logo.png\" width=\"200\"/>\n",
    "_____________________________________________\n",
    "\n",
    "## Exercícios #1 - Estruturas de dados\n"
   ]
  },
  {
   "cell_type": "markdown",
   "metadata": {},
   "source": [
    "### Exercício 1\n",
    "Utilizando o built-in method input(), crie um programa que receba a altura e o peso de uma pessoa e imprima na tela o IMC da mesma."
   ]
  },
  {
   "cell_type": "code",
   "execution_count": null,
   "metadata": {},
   "outputs": [],
   "source": [
    "altura = float(input(\"Altura da pessoa: \"))\n",
    "peso = float(input(\"Qual o peso da pessoa: \"))\n",
    "             \n",
    "IMC = peso / (altura ** 2)\n",
    " \n",
    "if IMC < 18.5:\n",
    "    print(f\"O IMC da pessoa é {IMC:.2f}. Classificado como MAGREZA\")\n",
    "elif IMC >= 18.5 and IMC <= 24.9:\n",
    "    print(f\"O IMC da pessoa é {IMC:.2f}. Classificado como NORMAL\")\n",
    "elif IMC >= 25 and IMC <= 29.9:\n",
    "    print(f\"O IMC da pessoa é {IMC:.2f}. Classificado como SOBREPESO\")\n",
    "elif IMC >= 30 and IMC <= 39.9:    \n",
    "    print(f\"O IMC da pessoa é {IMC:.2f}. Classificado como OBESIDADE\")\n",
    "else:\n",
    "    print(f\"O IMC da pessoa é {IMC:.2f}. Classificado como OBESIDADE GRAVE\")"
   ]
  },
  {
   "cell_type": "markdown",
   "metadata": {},
   "source": [
    "### Exercício 2 \n",
    "Escreva um programa que pergunte o nome completo do usuário e cumprimente o mesmo pelo primeiro nome."
   ]
  },
  {
   "cell_type": "code",
   "execution_count": null,
   "metadata": {},
   "outputs": [],
   "source": [
    "nome = input(\"Qual seu nome completo: \").split()\n",
    "\n",
    "print(\"Olá, {}\".format(nome[0]))"
   ]
  },
  {
   "cell_type": "markdown",
   "metadata": {},
   "source": [
    "### Exercício 3\n",
    "Desenho um código que extraia o domínio de um e-mail informado."
   ]
  },
  {
   "cell_type": "code",
   "execution_count": null,
   "metadata": {},
   "outputs": [],
   "source": [
    "#Extração do domínio email\n",
    "email = input(\"Informe seu email: \")\n",
    "\n",
    "dominio = email.split('@')[-1]\n",
    "\n",
    "print(f'O domínio é: ',{dominio})\n"
   ]
  },
  {
   "cell_type": "markdown",
   "metadata": {},
   "source": [
    "### Exercício 4 \n",
    "Faça um programa para uma loja de tintas. A pessoa informa a área em m2 que deseja pintar, e o script calculará a quantidade de latas de tinta que a pessoa deve comprar e o valor. Considere que cada litro de tinta pinta 3m2, que cada lata contém 18L e que custa R$ 80."
   ]
  },
  {
   "cell_type": "code",
   "execution_count": 36,
   "metadata": {},
   "outputs": [
    {
     "name": "stdout",
     "output_type": "stream",
     "text": [
      "Tamanho da área a ser pintada em metros quadrados: 3\n",
      "\n",
      "Resultado\n",
      "Quantidade de litros de tinta gasto: 1\n",
      "A quantidade de latas necessárias para pintar a parede é: 0\n",
      "O valor total gasto é: 4\n"
     ]
    }
   ],
   "source": [
    "#Loja de tinta\n",
    "\n",
    "area_pintada = int(input('Tamanho da área a ser pintada em metros quadrados: '))\n",
    "\n",
    "litros_lata = 18\n",
    "valor_lata = 80 \n",
    "\n",
    "litros_tinta_gasto = area_pintada / 3\n",
    "qtd_latas = litros_tinta_gasto /  litros_lata\n",
    "\n",
    "valor_total_gasto = qtd_latas * 80\n",
    "    \n",
    "print()\n",
    "print('Resultado')\n",
    "print(f'Quantidade de litros de tinta gasto: {round(litros_tinta_gasto)}')\n",
    "print(f'A quantidade de latas necessárias para pintar a parede é: {round(qtd_latas)}')\n",
    "print(f'O valor total gasto é: {round(valor_total_gasto)}')\n"
   ]
  },
  {
   "cell_type": "markdown",
   "metadata": {},
   "source": [
    "### Exercício 5\n",
    "Faça um Programa que pergunte quanto você ganha por hora e o número de horas trabalhadas no mês. Calcule e mostre o total do seu salário no referido mês, sabendo-se que são descontados 11% para o Imposto de Renda, 8% para o INSS e 5% para o sindicato, faça um programa que nos dê:\n",
    "\n",
    "1. salário bruto.\n",
    "2. quanto pagou ao IR.\n",
    "3. quanto pagou ao INSS.\n",
    "4. quanto pagou ao sindicato.\n",
    "5. o salário líquido."
   ]
  },
  {
   "cell_type": "code",
   "execution_count": 5,
   "metadata": {},
   "outputs": [
    {
     "name": "stdout",
     "output_type": "stream",
     "text": [
      "Informe seu salario por hora: 30\n",
      "Informe horas trabalhadas no mês: 140\n",
      "\n",
      "O salário bruto é: R$4200.00\n",
      "O desconto do INSS: R$336.00\n",
      "O desconto do IRPF: R$462.00\n",
      "O desconto do sindicato: R$210.00\n",
      "O salário liquido é: R$3192.00\n"
     ]
    }
   ],
   "source": [
    "#SALÁRIO DO FUNCIONÁRIO MENSAL\n",
    "\n",
    "salario_bruto_hora = float(input(\"Informe seu salario por hora: \"))\n",
    "horas_trabalhadas_mes = int(input(\"Informe horas trabalhadas no mês: \"))\n",
    "\n",
    "salario_bruto = salario_bruto_hora * horas_trabalhadas_mes\n",
    "\n",
    "desconto_inss = salario_bruto * (8 / 100)\n",
    "desconto_irpf = salario_bruto * (11 /100)\n",
    "desconto_sindicato = salario_bruto * (5 / 100)\n",
    "\n",
    "salario_liquido = salario_bruto - (desconto_inss + desconto_irpf + desconto_sindicato)\n",
    "\n",
    "print()\n",
    "print(f'O salário bruto é: R${salario_bruto:00.2f}')\n",
    "print(f'O desconto do INSS: R${desconto_inss:.2f}')\n",
    "print(f'O desconto do IRPF: R${desconto_irpf:.2f}')\n",
    "print(f'O desconto do sindicato: R${desconto_sindicato:.2f}')\n",
    "print(f'O salário liquido é: R${salario_liquido:.2f}')"
   ]
  },
  {
   "cell_type": "code",
   "execution_count": 7,
   "metadata": {},
   "outputs": [
    {
     "name": "stdout",
     "output_type": "stream",
     "text": [
      "Digite o valor que você ganha por hora: 30\n",
      "Digite o número de horas trabalhadas no mês: 140\n",
      "Salário bruto: R$ 4200.00\n",
      "Imposto de Renda: R$ 462.00\n",
      "INSS: R$ 336.00\n",
      "Sindicato: R$ 210.00\n",
      "Salário líquido: R$ 3192.00\n"
     ]
    }
   ],
   "source": [
    "#SCRIPT CRIADO PELO CHATGPT\n",
    "valor_hora = float(input(\"Digite o valor que você ganha por hora: \"))\n",
    "horas_trabalhadas = float(input(\"Digite o número de horas trabalhadas no mês: \"))\n",
    "\n",
    "salario_bruto = valor_hora * horas_trabalhadas\n",
    "imposto_renda = 0.11 * salario_bruto\n",
    "inss = 0.08 * salario_bruto\n",
    "sindicato = 0.05 * salario_bruto\n",
    "salario_liquido = salario_bruto - imposto_renda - inss - sindicato\n",
    "\n",
    "print(f\"Salário bruto: R$ {salario_bruto:.2f}\")\n",
    "print(f\"Imposto de Renda: R$ {imposto_renda:.2f}\")\n",
    "print(f\"INSS: R$ {inss:.2f}\")\n",
    "print(f\"Sindicato: R$ {sindicato:.2f}\")\n",
    "print(f\"Salário líquido: R$ {salario_liquido:.2f}\")\n"
   ]
  },
  {
   "cell_type": "code",
   "execution_count": null,
   "metadata": {},
   "outputs": [],
   "source": []
  }
 ],
 "metadata": {
  "kernelspec": {
   "display_name": "Python 3 (ipykernel)",
   "language": "python",
   "name": "python3"
  },
  "language_info": {
   "codemirror_mode": {
    "name": "ipython",
    "version": 3
   },
   "file_extension": ".py",
   "mimetype": "text/x-python",
   "name": "python",
   "nbconvert_exporter": "python",
   "pygments_lexer": "ipython3",
   "version": "3.9.13"
  }
 },
 "nbformat": 4,
 "nbformat_minor": 4
}
