{
 "cells": [
  {
   "cell_type": "code",
   "execution_count": 2,
   "id": "bd630785",
   "metadata": {},
   "outputs": [
    {
     "name": "stdout",
     "output_type": "stream",
     "text": [
      "x is currently:  0\n",
      " x is still less than 10, adding 1 to x\n",
      "continuing...\n",
      "x is currently:  1\n",
      " x is still less than 10, adding 1 to x\n",
      "continuing...\n",
      "x is currently:  2\n",
      " x is still less than 10, adding 1 to x\n",
      "Breaking because x==3\n"
     ]
    }
   ],
   "source": [
    "x = 0\n",
    "while x < 10:\n",
    "    print('x is currently: ',x)\n",
    "    print(' x is still less than 10, adding 1 to x')\n",
    "    x+=1\n",
    "    if x ==3:\n",
    "        print('Breaking because x==3')\n",
    "        break\n",
    "    else:\n",
    "        print('continuing...')\n",
    "        continue"
   ]
  },
  {
   "cell_type": "code",
   "execution_count": 4,
   "id": "35d2f2ff",
   "metadata": {},
   "outputs": [
    {
     "name": "stdout",
     "output_type": "stream",
     "text": [
      "x is currently:  0\n",
      " x is still less than 10, adding 1 to x\n",
      "continuing...\n",
      "x is currently:  1\n",
      " x is still less than 10, adding 1 to x\n",
      "continuing...\n",
      "x is currently:  2\n",
      " x is still less than 10, adding 1 to x\n",
      "x==3\n",
      "x is currently:  3\n",
      " x is still less than 10, adding 1 to x\n",
      "continuing...\n",
      "x is currently:  4\n",
      " x is still less than 10, adding 1 to x\n",
      "continuing...\n",
      "x is currently:  5\n",
      " x is still less than 10, adding 1 to x\n",
      "continuing...\n",
      "x is currently:  6\n",
      " x is still less than 10, adding 1 to x\n",
      "continuing...\n",
      "x is currently:  7\n",
      " x is still less than 10, adding 1 to x\n",
      "continuing...\n",
      "x is currently:  8\n",
      " x is still less than 10, adding 1 to x\n",
      "continuing...\n",
      "x is currently:  9\n",
      " x is still less than 10, adding 1 to x\n",
      "continuing...\n"
     ]
    }
   ],
   "source": [
    "x = 0\n",
    "while x < 10:\n",
    "    print('x is currently: ', x)\n",
    "    print(' x is still less than 10, adding 1 to x')\n",
    "    x+=1\n",
    "    if x == 3:\n",
    "        print('x==3')\n",
    "    else:\n",
    "        print('continuing...')\n",
    "    continue"
   ]
  },
  {
   "cell_type": "code",
   "execution_count": 19,
   "id": "a24c94a4",
   "metadata": {},
   "outputs": [
    {
     "name": "stdout",
     "output_type": "stream",
     "text": [
      "10\n"
     ]
    }
   ],
   "source": [
    "y = 10\n",
    "while y != 5: \n",
    "    print(y) \n",
    "    y -= 1 \n",
    "    break \n",
    "    print(\"O valor de y ainda não é igual a 5.\")"
   ]
  },
  {
   "cell_type": "code",
   "execution_count": 20,
   "id": "4ce46ea6",
   "metadata": {},
   "outputs": [
    {
     "name": "stdout",
     "output_type": "stream",
     "text": [
      "10\n",
      "9\n",
      "8\n",
      "7\n",
      "6\n"
     ]
    }
   ],
   "source": [
    "y = 10\n",
    "while y != 5: \n",
    "    print(y) \n",
    "    y -= 1 \n",
    "    continue\n",
    "    print(\"O valor de y ainda não é igual a 5.\")"
   ]
  },
  {
   "cell_type": "code",
   "execution_count": 21,
   "id": "2f7aa1f9",
   "metadata": {},
   "outputs": [
    {
     "name": "stdout",
     "output_type": "stream",
     "text": [
      "10\n",
      "O valor de y ainda não é igual a 5.\n",
      "9\n",
      "O valor de y ainda não é igual a 5.\n",
      "8\n",
      "O valor de y ainda não é igual a 5.\n",
      "7\n",
      "O valor de y ainda não é igual a 5.\n",
      "6\n",
      "O valor de y ainda não é igual a 5.\n"
     ]
    }
   ],
   "source": [
    "y = 10\n",
    "while y != 5: \n",
    "    print(y) \n",
    "    y -= 1 \n",
    "    print(\"O valor de y ainda não é igual a 5.\")\n",
    "    continue"
   ]
  },
  {
   "cell_type": "code",
   "execution_count": 13,
   "id": "be6e50c6",
   "metadata": {},
   "outputs": [
    {
     "name": "stdout",
     "output_type": "stream",
     "text": [
      "3.0\n"
     ]
    }
   ],
   "source": [
    "valor1 = 6\n",
    "\n",
    "valor2 = 2\n",
    "\n",
    "valor3 = valor1 / valor2\n",
    "\n",
    "print(valor3)\n"
   ]
  },
  {
   "cell_type": "code",
   "execution_count": 16,
   "id": "f01c77cf",
   "metadata": {},
   "outputs": [
    {
     "name": "stdout",
     "output_type": "stream",
     "text": [
      "2400.0\n",
      "5600.0\n",
      "96000\n"
     ]
    }
   ],
   "source": [
    "lucro_mensal = 8000\n",
    "\n",
    "lucro_anual = 8000 * 12\n",
    "\n",
    "amigo_1 = 8000 * (30 / 100)\n",
    "\n",
    "amigo_2 = 8000 - amigo_1\n",
    "\n",
    "\n",
    "print(amigo_1)\n",
    "\n",
    "print(amigo_2)\n",
    "\n",
    "print(lucro_anual)\n"
   ]
  },
  {
   "cell_type": "code",
   "execution_count": 18,
   "id": "08d3a7ea",
   "metadata": {},
   "outputs": [
    {
     "data": {
      "text/plain": [
       "True"
      ]
     },
     "execution_count": 18,
     "metadata": {},
     "output_type": "execute_result"
    }
   ],
   "source": [
    "5 + 3 * 10 / 3 == 15"
   ]
  }
 ],
 "metadata": {
  "kernelspec": {
   "display_name": "Python 3 (ipykernel)",
   "language": "python",
   "name": "python3"
  },
  "language_info": {
   "codemirror_mode": {
    "name": "ipython",
    "version": 3
   },
   "file_extension": ".py",
   "mimetype": "text/x-python",
   "name": "python",
   "nbconvert_exporter": "python",
   "pygments_lexer": "ipython3",
   "version": "3.9.13"
  }
 },
 "nbformat": 4,
 "nbformat_minor": 5
}
