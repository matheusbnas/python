{
 "cells": [
  {
   "cell_type": "markdown",
   "metadata": {},
   "source": [
    "<img src=\"https://asimov.academy/wp-content/uploads/2021/01/logo.png\" width=\"200\"/>\n",
    "_____________________________________________\n",
    "\n",
    "## Exercícios #2 - Operadores de comparação e laços\n"
   ]
  },
  {
   "cell_type": "markdown",
   "metadata": {},
   "source": [
    "### Exercício 1\n",
    "Faça um programa para a leitura de duas notas parciais de um aluno. O programa deve calcular a média alcançada por aluno e apresentar:\n",
    "- A mensagem \"Aprovado\", se a média alcançada for maior ou igual a 7;\n",
    "- A mensagem \"Reprovado\", se a média for menor do que 7;\n",
    "- A mensagem \"Aprovado com Distinção\", se a média for igual a 10."
   ]
  },
  {
   "cell_type": "code",
   "execution_count": 6,
   "metadata": {},
   "outputs": [],
   "source": [
    "def nota(n1, n2):\n",
    "\n",
    "    media = (nota1 + nota2) / 2\n",
    "\n",
    "    if media == 10:\n",
    "        print(f'A média foi {media}')\n",
    "        print('Aprovado com Distinção!')\n",
    "    elif media >= 7:\n",
    "        print(f'A média foi {media}: Aprovado')\n",
    "    else:\n",
    "        print(f'A média foi {media}: Reprovado')\n",
    "    return None"
   ]
  },
  {
   "cell_type": "code",
   "execution_count": 7,
   "metadata": {},
   "outputs": [
    {
     "name": "stdout",
     "output_type": "stream",
     "text": [
      "Primeira nota: 7\n",
      "Primeira nota: 8\n",
      "A média foi 7.5: Aprovado\n"
     ]
    }
   ],
   "source": [
    "nota1 = float(input('Primeira nota: '))\n",
    "nota2 = float(input('Primeira nota: '))\n",
    "nota(nota1, nota2)"
   ]
  },
  {
   "cell_type": "markdown",
   "metadata": {},
   "source": [
    "### Exercício 2\n",
    "Escreva um script que leia três números e mostre o maior e o menor deles."
   ]
  },
  {
   "cell_type": "code",
   "execution_count": 25,
   "metadata": {},
   "outputs": [
    {
     "name": "stdout",
     "output_type": "stream",
     "text": [
      "Entre com um número: -323\n",
      "Entre com um número: 2313123\n",
      "Entre com um número: 31232\n",
      "[-323, 31232, 2313123]\n",
      "\n",
      "O menor número da lista é: -323 e o maio número da lista é: 2313123\n"
     ]
    }
   ],
   "source": [
    "\n",
    "num = []\n",
    "for i in range(3):\n",
    "   n = int(input('Entre com um número: '))\n",
    "   num.append(n)\n",
    "    \n",
    "num.sort()\n",
    "print(num)\n",
    "print()\n",
    "print(f'O menor número da lista é: {min(num)} e o maio número da lista é: {max(num)}')\n",
    "\n",
    "\n"
   ]
  },
  {
   "cell_type": "markdown",
   "metadata": {},
   "source": [
    "### Exercício 3 \n",
    "Nome na vertical em escada. \n",
    "\n",
    "F<br>\n",
    "FU<br>\n",
    "FUL<br>\n",
    "FULA<br>\n",
    "FULAN<br>\n",
    "FULANO<br>"
   ]
  },
  {
   "cell_type": "code",
   "execution_count": 52,
   "metadata": {},
   "outputs": [
    {
     "name": "stdout",
     "output_type": "stream",
     "text": [
      "INFORME SEU NOME\n",
      "Qual é o seu nome: Matheus\n",
      "\n",
      "M\n",
      "Ma\n",
      "Mat\n",
      "Math\n",
      "Mathe\n",
      "Matheu\n",
      "Matheus\n"
     ]
    }
   ],
   "source": [
    "#Nome por vertical\n",
    "print('INFORME SEU NOME')\n",
    "\n",
    "nome = input('Qual é o seu nome: ').rstrip()\n",
    "\n",
    "for i in range(len(nome) + 1):\n",
    "    print(nome[:i])"
   ]
  },
  {
   "cell_type": "markdown",
   "metadata": {},
   "source": [
    "### Exercício 4\n",
    "A série de Fibonacci é formada pela seqüência 1,1,2,3,5,8,13,21,34,55,... (o próximo termo, a partir do terceiro, é sempre gerado a partir do somatório dos últimos dois). Faça um programa capaz de gerar a série até o n−ésimo termo (onde o valor n deve ser inserido pelo usuário)."
   ]
  },
  {
   "cell_type": "code",
   "execution_count": 25,
   "metadata": {},
   "outputs": [
    {
     "name": "stdout",
     "output_type": "stream",
     "text": [
      "Entre com um número: 5\n",
      "A sequência de Fibonacci do número 5 é: 0.\n",
      "A sequência de Fibonacci do número 5 é: 1.\n",
      "A sequência de Fibonacci do número 5 é: 3.\n",
      "A sequência de Fibonacci do número 5 é: 6.\n",
      "A sequência de Fibonacci do número 5 é: 10.\n",
      "A sequência de Fibonacci do número 5 é: 15.\n",
      "15\n"
     ]
    }
   ],
   "source": [
    "def fibonacci(n):\n",
    "    lista = []\n",
    "    soma = 0\n",
    "    for pos in range(n + 1):\n",
    "        lista.append(pos)\n",
    "        soma = soma + lista[pos]\n",
    "        print(f'A sequência de Fibonacci do número {n} é: {soma}.')\n",
    "    print(soma)\n",
    "    return None\n",
    "\n",
    "#Entrada dos números\n",
    "num = int(input('Entre com um número: '))\n",
    "fibonacci(num)"
   ]
  },
  {
   "cell_type": "markdown",
   "metadata": {},
   "source": [
    "### Exercício 5\n",
    "Faça um programa que leia e valide as seguintes informações:\n",
    "- Nome: maior que 3 caracteres;\n",
    "- Idade: entre 0 e 150;\n",
    "- Salário: maior que zero;\n",
    "- Sexo: 'f' ou 'm';\n",
    "- Estado Civil: 's', 'c', 'v', 'd';"
   ]
  },
  {
   "cell_type": "code",
   "execution_count": 27,
   "metadata": {},
   "outputs": [
    {
     "data": {
      "text/plain": [
       "['João',\n",
       " 'Pedro',\n",
       " 'Matheus',\n",
       " 'Francisco',\n",
       " 'Gabriel',\n",
       " 'Dulce',\n",
       " 'Natália',\n",
       " 'Eron',\n",
       " 'José']"
      ]
     },
     "execution_count": 27,
     "metadata": {},
     "output_type": "execute_result"
    }
   ],
   "source": [
    "nome = ['João', 'Pedro', 'Matheus', 'Francisco', 'Gabriel', 'Dulce', 'Natália', 'Eron', 'José']\n",
    "idade = []\n"
   ]
  },
  {
   "cell_type": "markdown",
   "metadata": {},
   "source": [
    "### Exercício 6\n",
    "Faça um programa que peça um número inteiro e determine se ele é ou não um número primo. Um número primo é aquele que é divisível somente por ele mesmo e por 1. \n",
    "Dica: Utilize o operador aritmético `%`, que retorna o resto da divisão de dois números."
   ]
  },
  {
   "cell_type": "code",
   "execution_count": null,
   "metadata": {},
   "outputs": [],
   "source": [
    "def primo(n):\n",
    "    if n % "
   ]
  },
  {
   "cell_type": "code",
   "execution_count": null,
   "metadata": {},
   "outputs": [],
   "source": []
  }
 ],
 "metadata": {
  "kernelspec": {
   "display_name": "Python 3 (ipykernel)",
   "language": "python",
   "name": "python3"
  },
  "language_info": {
   "codemirror_mode": {
    "name": "ipython",
    "version": 3
   },
   "file_extension": ".py",
   "mimetype": "text/x-python",
   "name": "python",
   "nbconvert_exporter": "python",
   "pygments_lexer": "ipython3",
   "version": "3.9.13"
  }
 },
 "nbformat": 4,
 "nbformat_minor": 4
}
